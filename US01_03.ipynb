{
 "cells": [
  {
   "cell_type": "markdown",
   "metadata": {},
   "source": [
    "<font size = 5>US01_03</font>"
   ]
  },
  {
   "cell_type": "markdown",
   "metadata": {},
   "source": [
    "<font size=4>1.Identify Characters</font>"
   ]
  },
  {
   "cell_type": "code",
   "execution_count": 1,
   "metadata": {},
   "outputs": [
    {
     "name": "stdout",
     "output_type": "stream",
     "text": [
      "{'Gared', 'Bet', 'Ser Waymar', 'Royce', 'Waymar Royce', 'Mormont', 'Sworn'}\n"
     ]
    }
   ],
   "source": [
    "import spacy\n",
    "import en_core_web_sm\n",
    "import networkx as nx\n",
    "\n",
    "G=nx.Graph()\n",
    "nlp=en_core_web_sm.load()\n",
    "chapter=\"\"\"\n",
    "\"We should start back,\" Gared urged as the woods began to grow dark around them.\n",
    "\t\"The wildlings are dead.\"\n",
    "\t\"Do the dead frighten you?\" Ser Waymar Royce asked with just the hint of a smile.\n",
    "\tGared did not rise to the bait. He was an old man, past fifty, and he had seen the lordlings come and go. \"Dead is dead,\" he said. \"We have no business with the dead.\"\n",
    "\t\"Are they dead?\" Royce asked softly. \"What proof have we?\"\n",
    "\t\"Will saw them,\" Gared said. \"If he says they are dead, that's proof enough for me.\"\n",
    "\tWill had known they would drag him into the quarrel sooner or later. He wished it had been later rather than sooner. \"My mother told me that dead men sing no songs,\" he put in.\n",
    "\t\"My wet nurse said the same thing, Will,\" Royce replied. \"Never believe anything you hear at a woman's tit. There are things to be learned even from the dead.\" His voice echoed, too loud in the twilit forest.\n",
    "\t\"We have a long ride before us,\" Gared pointed out. \"Eight days, maybe nine. And night is falling.\"\n",
    "\tSer Waymar Royce glanced at the sky with disinterest. \"It does that every day about this time. Are you unmanned by the dark, Gared?\"\n",
    "\tWill could see the tightness around Gared's mouth, the barely suppressed anger in his eyes under the thick black hood of his cloak. Gared had spent forty years in the Night's Watch, man and boy, and he was not accustomed to being made light of. Yet it was more than that. Under the wounded pride, Will could sense something else in the older man. You could taste it; a nervous tension that came perilous close to fear.\n",
    "\tWill shared his unease. He had been four years on the Wall. The first time he had been sent beyond, all the old stories had come rushing back, and his bowels had turned to water. He had laughed about it afterward. He was a veteran of a hundred rangings by now, and the endless dark wilderness that the southron called the haunted forest had no more terrors for him.\n",
    "\tUntil tonight. Something was different tonight. There was an edge to this darkness that made his hackles rise. Nine days they had been riding, north and northwest and then north again, farther and farther from the Wall, hard on the track of a band of Wildling raiders. Each day had been worse than the day that had come before it. Today was the worst of all. A cold wind was blowing out of the north, and it made the trees rustle like living things. All day, Will had felt as though something were watching him, something cold and implacable that loved him not. Gared had felt it too. Will wanted nothing so much as to ride hellbent for the safety of the Wall, but that was not a feeling to share with your commander.\n",
    "\tEspecially not a commander like this one.\n",
    "\tSer Waymar Royce was the youngest son of an ancient house with too many heirs. He was a handsome youth of eighteen, grey-eyed and graceful and slender as a knife. Mounted on his huge black destrier, the knight towered above Will and Gared on their smaller garrons. He wore black leather boots, black woolen pants, black moleskin gloves, and a fine supple coat of gleaming black ringmail over layers of black wool and boiled leather. Ser Waymar had been a Sworn Brother of the Night's Watch for less than half a year, but no one could say he had not prepared for his vocation. At least insofar as his wardrobe was concerned.\n",
    "\tHis cloak was his crowning glory; sable, thick and black and soft as sin. \"Bet he killed them all himself, he did,\" Gared told the barracks over wine, \"twisted their little heads off, our mighty warrior.\" They had all shared the laugh.\n",
    "\tIt is hard to take orders from a man you laughed at in your cups, Will reflected as he sat shivering atop his garron. Gared must have felt the same.\n",
    "\t\"Mormont said as we should track them, and we did,\" Gared said. \"They're dead. They shan't trouble us no more. There's hard riding before us. I don't like this weather. If it snows, we could be a fortnight getting back, and snow's the best we can hope for. Ever seen an ice storm, my lord?\"\n",
    "\tThe lordling seemed not to hear him. He studied the deepening twilight in that half-bored, half-distracted way he had. Will had ridden with\n",
    "\"\"\"\n",
    "characters=set()\n",
    "doc=nlp(chapter)\n",
    "for ent in doc.ents:\n",
    "    if ent.label_ == \"PERSON\":\n",
    "        G.add_node(ent.text)\n",
    "        characters.add(ent.text)\n",
    "print(characters)"
   ]
  },
  {
   "cell_type": "markdown",
   "metadata": {},
   "source": [
    "<font size=4>2.Link characters</font>"
   ]
  },
  {
   "cell_type": "code",
   "execution_count": 2,
   "metadata": {},
   "outputs": [],
   "source": [
    "import itertools\n",
    "couples = list(itertools.combinations(characters,2))\n",
    "G.add_edges_from(couples)"
   ]
  },
  {
   "cell_type": "code",
   "execution_count": 3,
   "metadata": {},
   "outputs": [
    {
     "name": "stdout",
     "output_type": "stream",
     "text": [
      "Name: \n",
      "Type: Graph\n",
      "Number of nodes: 7\n",
      "Number of edges: 21\n",
      "Average degree:   6.0000\n"
     ]
    }
   ],
   "source": [
    "print(nx.info(G))\n",
    "nx.write_gexf(G,\"one chapter.gexf\")"
   ]
  },
  {
   "cell_type": "code",
   "execution_count": null,
   "metadata": {},
   "outputs": [],
   "source": []
  }
 ],
 "metadata": {
  "kernelspec": {
   "display_name": "Python 3",
   "language": "python",
   "name": "python3"
  },
  "language_info": {
   "codemirror_mode": {
    "name": "ipython",
    "version": 3
   },
   "file_extension": ".py",
   "mimetype": "text/x-python",
   "name": "python",
   "nbconvert_exporter": "python",
   "pygments_lexer": "ipython3",
   "version": "3.7.0"
  }
 },
 "nbformat": 4,
 "nbformat_minor": 2
}
